{
 "cells": [
  {
   "cell_type": "markdown",
   "metadata": {
    "_cell_guid": "7cca0db1-ca74-47d1-b111-8af30b9a2c7b",
    "_uuid": "289d1910a57950801bde143195a7e937e8d24f97",
    "collapsed": true
   },
   "source": [
    "# Data types and missing data workbook\n",
    "\n",
    "## Introduction\n",
    "\n",
    "This is the workbook component of the \"Data types and missing data\" section of the tutorial.\n",
    "\n",
    "# Relevant Resources\n",
    "- [Data Types and Missing Data Reference](https://www.kaggle.com/residentmario/data-types-and-missing-data-reference)\n",
    "\n",
    "# Set Up\n",
    "\n",
    "Run the following cell to load your data and some utility functions"
   ]
  },
  {
   "cell_type": "code",
   "execution_count": 63,
   "metadata": {
    "_cell_guid": "4dfdbb83-a16a-4ad3-ad8d-3bdd8074eb8b",
    "_uuid": "e5e93394edacb7f659c779a188f0a67fa6a63698"
   },
   "outputs": [],
   "source": [
    "import pandas as pd\n",
    "import seaborn as sns\n",
    "from learntools.advanced_pandas.data_types_missing_data import *\n",
    "\n",
    "reviews = pd.read_csv(\"../input/wine-reviews/winemag-data-130k-v2.csv\", index_col=0)\n",
    "pd.set_option('max_rows', 5)"
   ]
  },
  {
   "cell_type": "markdown",
   "metadata": {
    "_cell_guid": "c1c0c73d-a98a-43ee-9574-fc2cbe21c10b",
    "_uuid": "cc188a91c361db215008684a4b5613b5be2eb75e"
   },
   "source": [
    "# Checking Answers\n",
    "\n",
    "**Check your answers in each exercise using the  `check_qN` function** (replacing `N` with the number of the exercise). For example here's how you would check an incorrect answer to exercise 1:"
   ]
  },
  {
   "cell_type": "code",
   "execution_count": null,
   "metadata": {
    "_cell_guid": "005e1813-7239-4639-8c98-647cdd510284",
    "_uuid": "fc7dafb535e9041971967163e861157c1413d5c5",
    "collapsed": true
   },
   "outputs": [],
   "source": [
    "check_q1(pd.DataFrame())"
   ]
  },
  {
   "cell_type": "markdown",
   "metadata": {
    "_cell_guid": "c97444e5-dd02-4761-86ec-03bb83297c45",
    "_uuid": "f466a6df2ed46421685268f0f161146f9c57c4dd"
   },
   "source": [
    "If you get stuck, **use the `answer_qN` function to see the code with the correct answer.**\n",
    "\n",
    "For the first set of questions, running the `check_qN` on the correct answer returns `True`.\n",
    "\n",
    "For the second set of questions, using this function to check a correct answer will present an informative graph!"
   ]
  },
  {
   "cell_type": "markdown",
   "metadata": {
    "_cell_guid": "af123726-607f-4344-912d-0602a54b2483",
    "_uuid": "f5d9c7ec505fcdfe2631231a65a7e70ecb346858"
   },
   "source": [
    "# Exercises"
   ]
  },
  {
   "cell_type": "markdown",
   "metadata": {
    "_cell_guid": "cfeb1cd2-1eb3-4e97-a159-33ed0e55796d",
    "_uuid": "866e792da2ba35ed10ad4ebf7df6b8e70ff0f174"
   },
   "source": [
    "**Exercise 1**: What is the data type of the `points` column in the dataset?"
   ]
  },
  {
   "cell_type": "code",
   "execution_count": 17,
   "metadata": {
    "_cell_guid": "5ef1aa29-3b6c-4c98-95b1-f8f5beff80df",
    "_uuid": "a86159e79b1723be259de83d46805177d88aa290"
   },
   "outputs": [
    {
     "data": {
      "text/plain": [
       "True"
      ]
     },
     "execution_count": 17,
     "metadata": {},
     "output_type": "execute_result"
    }
   ],
   "source": [
    "# Your code here\n",
    "a1=reviews.points.dtype\n",
    "print(a1)\n",
    "check_q1(a1)"
   ]
  },
  {
   "cell_type": "markdown",
   "metadata": {
    "_cell_guid": "f29b7905-b694-4304-982a-6ae614b4db0f",
    "_uuid": "ac053dbdbfc9a3727955e891eab55fe5778811fd"
   },
   "source": [
    "**Exercise 2**: Create a `Series` from entries in the `price` column, but convert the entries to strings. Hint: strings are `str` in native Python."
   ]
  },
  {
   "cell_type": "code",
   "execution_count": 30,
   "metadata": {
    "_cell_guid": "8fd55c35-2654-486e-8fa3-87857e3070dd",
    "_uuid": "137fef2ea29471c0cdbcaf18fa718f5e781f9e23"
   },
   "outputs": [
    {
     "data": {
      "text/plain": [
       "True"
      ]
     },
     "execution_count": 30,
     "metadata": {},
     "output_type": "execute_result"
    }
   ],
   "source": [
    "# Your code here\n",
    "#s='Hola Hola'\n",
    "#df=pd.DataFrame({'a':'hola','b':'adeu'},index=[1])\n",
    "#print(df.a.dtype)\n",
    "#print(s.dtype)\n",
    "a2=reviews.price.astype('str')\n",
    "#print(a2.dtype)\n",
    "check_q2(a2)"
   ]
  },
  {
   "cell_type": "markdown",
   "metadata": {
    "_cell_guid": "9bd9a7fe-22a8-4ebf-86f4-bfaefdccc207",
    "_uuid": "e019e377bb4aa3933641a0ce27cdead35cac07dc"
   },
   "source": [
    "Here are a few visual exercises on missing data.\n",
    "\n",
    "**Exercise 3**: Some wines do not list a price. How often does this occur? Generate a `Series`that, for each review in the dataset, states whether the wine reviewed has a null `price`."
   ]
  },
  {
   "cell_type": "code",
   "execution_count": 42,
   "metadata": {
    "_cell_guid": "683a0721-08dd-48c9-ad98-2ef711353fed",
    "_uuid": "c8eb98ff4b269d7f80001df982af1842b484c272"
   },
   "outputs": [
    {
     "data": {
      "text/plain": [
       "<matplotlib.axes._subplots.AxesSubplot at 0x7f00ce781470>"
      ]
     },
     "execution_count": 42,
     "metadata": {},
     "output_type": "execute_result"
    },
    {
     "data": {
      "image/png": "[encoded data removed]",
      "text/plain": [
       "<Figure size 432x288 with 1 Axes>"
      ]
     },
     "metadata": {},
     "output_type": "display_data"
    }
   ],
   "source": [
    "# Your code here\n",
    "a3=reviews.price.isnull()\n",
    "check_q3(a3)\n",
    "#print(a3)"
   ]
  },
  {
   "cell_type": "markdown",
   "metadata": {
    "_cell_guid": "ca0e4317-1db0-4b1a-8c62-6ab89ba2549f",
    "_uuid": "2814d97e0aa5b5167f1b023f75f3705afbfa933f"
   },
   "source": [
    "**Exercise 4**: What are the most common wine-producing regions? Create a `Series` counting the number of times each value occurs in the `region_1` field. This field is often missing data, so replace missing values with `Unknown`. Sort in descending order.  Your output should look something like this:\n",
    "\n",
    "```\n",
    "Unknown                    21247\n",
    "Napa Valley                 4480\n",
    "                           ...  \n",
    "Bardolino Superiore            1\n",
    "Primitivo del Tarantino        1\n",
    "Name: region_1, Length: 1230, dtype: int64\n",
    "```"
   ]
  },
  {
   "cell_type": "code",
   "execution_count": 64,
   "metadata": {
    "_cell_guid": "51499784-a100-4990-8033-f837146c577b",
    "_uuid": "00876754dfa4d9a5a992ea4c9135d3b9ffab7152"
   },
   "outputs": [
    {
     "name": "stdout",
     "output_type": "stream",
     "text": [
      "Unknown             21247\n",
      "Napa Valley          4480\n",
      "                    ...  \n",
      "Corton Perrières        1\n",
      "Frascati                1\n",
      "Name: region_1, Length: 1230, dtype: int64\n",
      "1230\n"
     ]
    }
   ],
   "source": [
    "# Your code here\n",
    "a4=reviews.region_1.fillna('Unknown').value_counts().sort_values(ascending=False)\n",
    "print(a4)\n",
    "print(len(a4))\n",
    "#check_q4(a4)"
   ]
  },
  {
   "cell_type": "markdown",
   "metadata": {
    "_cell_guid": "2eca8be4-d277-4c27-b488-3b0809ed7ea4",
    "_uuid": "5810dc50846cfdfc98108f8a32f7e1a94f5599a5"
   },
   "source": [
    "**Exercise 5**: A neat property of boolean data types, like the ones created by the `isnull()` method, is that `False` gets treated as 0 and `True` as 1 when performing math on the values. Thus, the `sum()` of a list of boolean values will return how many times `True` appears in that list.\n",
    "Create a `pandas` `Series` showing how many times each of the columns in the dataset contains null values. Your result should look something like this:\n",
    "\n",
    "```\n",
    "country        63\n",
    "description     0\n",
    "               ..\n",
    "variety         1\n",
    "winery          0\n",
    "Length: 13, dtype: int64\n",
    "```\n",
    "\n",
    "Hint: write a map that will extract the vintage of each wine in the dataset. The vintages reviewed range from 2000 to 2017, no earlier or later. Use `fillna` to impute the missing values."
   ]
  },
  {
   "cell_type": "code",
   "execution_count": 66,
   "metadata": {
    "_cell_guid": "9ec8f6f7-78e2-46ca-8f19-daf3e9c37f1a",
    "_uuid": "6e715428e768fb77db3dcf28650639962562bf70"
   },
   "outputs": [
    {
     "data": {
      "text/plain": [
       "<matplotlib.axes._subplots.AxesSubplot at 0x7f00c94d0550>"
      ]
     },
     "execution_count": 66,
     "metadata": {},
     "output_type": "execute_result"
    },
    {
     "data": {
      "image/png": "[encoded data removed]",
      "text/plain": [
       "<Figure size 432x288 with 1 Axes>"
      ]
     },
     "metadata": {},
     "output_type": "display_data"
    }
   ],
   "source": [
    "# Your code here\n",
    "a5=reviews.isnull().sum()\n",
    "check_q5(a5)"
   ]
  },
  {
   "cell_type": "markdown",
   "metadata": {
    "_cell_guid": "5b324634-6ad9-4964-b016-adc572cb1bc8",
    "_uuid": "ed76a59f607e65f2a5093618265cfed5385d4a31"
   },
   "source": [
    "# Keep going\n",
    "Move on to the [**Renaming and combining workbook**](https://www.kaggle.com/kernels/fork/598826)"
   ]
  }
 ],
 "metadata": {
  "kernelspec": {
   "display_name": "Python 3",
   "language": "python",
   "name": "python3"
  },
  "language_info": {
   "codemirror_mode": {
    "name": "ipython",
    "version": 3
   },
   "file_extension": ".py",
   "mimetype": "text/x-python",
   "name": "python",
   "nbconvert_exporter": "python",
   "pygments_lexer": "ipython3",
   "version": "3.6.4"
  }
 },
 "nbformat": 4,
 "nbformat_minor": 1
}
